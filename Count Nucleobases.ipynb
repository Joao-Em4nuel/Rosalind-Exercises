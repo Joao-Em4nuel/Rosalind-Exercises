{
 "cells": [
  {
   "cell_type": "code",
   "execution_count": 1,
   "id": "2bb5f940",
   "metadata": {},
   "outputs": [],
   "source": [
    "#Open DNA sequence from txt file and store it in \"dna\" variable\n",
    "dna = open(\"rosalind_revc.txt\", \"r\")\n",
    "\n",
    "#Read total DNA sequence from txt file and store it as a string in \"dna_str\" variable\n",
    "dna_str = str(dna.read()).strip('\\n')"
   ]
  },
  {
   "cell_type": "code",
   "execution_count": 2,
   "id": "c862d80b",
   "metadata": {},
   "outputs": [],
   "source": [
    "#Create a list of the DNA nucleobases\n",
    "nitrogenous_bases = ['A', 'C', 'G', 'T']"
   ]
  },
  {
   "cell_type": "code",
   "execution_count": 3,
   "id": "939e8c42",
   "metadata": {},
   "outputs": [],
   "source": [
    "#Count the number of each nucleobase, by the order in the created list, and store it in the \"nb_count\" list\n",
    "nb_count = []\n",
    "for i in nitrogenous_bases:\n",
    "    nb_count.append(dna_str.count(i))"
   ]
  },
  {
   "cell_type": "code",
   "execution_count": 4,
   "id": "8a03f37c",
   "metadata": {},
   "outputs": [
    {
     "name": "stdout",
     "output_type": "stream",
     "text": [
      "234 212 226 233\n"
     ]
    }
   ],
   "source": [
    "#Print the number of time each nucleobase accurs in the loaded DNA sequence by their order in the \"nitrogenous_bases\" list\n",
    "print(nb_count[0], nb_count[1], nb_count[2], nb_count[3])"
   ]
  },
  {
   "cell_type": "code",
   "execution_count": null,
   "id": "6b56046a",
   "metadata": {},
   "outputs": [],
   "source": [
    "######################"
   ]
  },
  {
   "cell_type": "code",
   "execution_count": 2,
   "id": "938891d0",
   "metadata": {
    "scrolled": true
   },
   "outputs": [
    {
     "data": {
      "text/plain": [
       "'AUCUUUCAAAAGUGCCUAGUUUUGAGUGAUCAGUUCGAGAUGUCACACUGUCAACGGCCCUUACGACAAGUACCCUUUGAAGAAAAGCCCCGGGUAGUAUCUCUCGCGAAAUCGUGGCAGAAUGGAGAACUGCAUCAGGCCGGCCAGGAAACCGGGGCGUUAGAUCCCGGCUCGAUACCCGGGCCACAGUGGUUUCAACCAAGCAUGCAUACCAGGGCAAGAUUCGCAAUGGACAAAAGGAUGAUGGAGAAAAUCUUCUUAAGGGAAUACUCCACACACCUACAUAGAAAGUUAGCUGUACAGAACGCUCUAGUCCACCCCCAACCGGGGGUCCUGAGCCACCUUUAGGUCGAAAGAAUAGAGACGAAGAAAUAUCGGAUCAUGUAGCGUUUAAUUGUCAUUUGGCCUAGUGUAUAGAGGUUGCGACUACAGCAUUGGGCGUGCUAGCAGUCUCCGCGUUCGUGGUUGGUGAUGGGCGUAUAAGGACGACCGUGAUGUUCUAAGUGUAGAGAGGACCUCACAAUAUGUCAAAUAAAGACUCCUCCGUGUACUGGUUGCACGCCUCGGAUAUUUGGGGUUUUGCAACGUUCGCCUAGGUUUAUGGGGAAGCUGCUGCUUUCUAUAUGGUGAUACAUCUUUCAUAUGUAGUCCACACCUGAUGUAACACUCUGGCGGCGAACAAUCACCUACCACAUCCUAUUUGGACUUGUAUCAAGAUCUGAAAGGGCAUAAUCCGAAGCACUCCAUUUAUCGGGCGGUCUCUGCAGCCACCAUUGGAUAGAAAAGCACCAGCGCCUAACCACUGAUGCUAAACUGACAAGAGCUAUUGCCAGGUGUAGGUGGCCAGCGAGCGGACAUUUGGACAUGGGGGAGUAAGAAACUGAGCACGUCUUCGAGAGGCGGACGUAGGUUUUUUCCGUCGGUAAAGGUUAUCCACUCGGA'"
      ]
     },
     "execution_count": 2,
     "metadata": {},
     "output_type": "execute_result"
    }
   ],
   "source": [
    "dna_str.replace('T', 'U')"
   ]
  },
  {
   "cell_type": "code",
   "execution_count": null,
   "id": "db26d81d",
   "metadata": {},
   "outputs": [],
   "source": [
    "####################"
   ]
  },
  {
   "cell_type": "code",
   "execution_count": null,
   "id": "912d2c4c",
   "metadata": {},
   "outputs": [],
   "source": [
    "dna_str"
   ]
  },
  {
   "cell_type": "code",
   "execution_count": 2,
   "id": "2a1beb37",
   "metadata": {},
   "outputs": [],
   "source": [
    "nitrogenous_bases = ['A', 'C', 'G', 'T']\n",
    "complement_nb = ['T', 'G', 'C', 'A']"
   ]
  },
  {
   "cell_type": "code",
   "execution_count": 3,
   "id": "3c474e60",
   "metadata": {},
   "outputs": [],
   "source": [
    "n = 0\n",
    "for i in nitrogenous_bases:\n",
    "    dna_str = dna_str.replace(i, complement_nb[n].lower())\n",
    "    n = n + 1"
   ]
  },
  {
   "cell_type": "code",
   "execution_count": 4,
   "id": "ac833e0f",
   "metadata": {},
   "outputs": [
    {
     "data": {
      "text/plain": [
       "'AGACTTCTGAACCAATTAACGGTCGTATTCTACGATCGGGGCTGCTTAAGGTTGTGGGGAGTCCTCACTTTCAATTCTGCGTTGTTACACCGGCGGGTTTCGAGGAATAATGTTATTACGGTTTAAGACTGTTCAGATTTGAAGTGTCCGTTAAAGTCGGCTCGGAGTCCAGTTTGTCCCTTTCATCTGGGTGGTGCACGGCCGACCCTCAGAACTTTCTCATGCTGTTATTTACAGGGAAATCGCTTCCGGGTGATTTGGTCGAATCTAGTGTCAGATATCCGCCCTGCATTGTACGCGATCCGCCCAGCCCTGTTTCAAGTGAACGTCTGGTCGCACTACAAGGACTGATAAAGTCCAAATGTTGGGACTAGAAAGGATCTCGAGGGATATTACTTACACACGACCCGTTAAAATCTGAAAACATTGGCGATAAAAGGCTGACCACTGCTTAGCCGTACCTCCGAGGGAGATCGTAGTTCTTATTGAAATGAGGGGCCCAAACTTGCATGTAGAGCTTGCGCTTTTTCGAGCTAAGTGTCCGCTACATTGCCGGTTGATGACACGATACAGATGGTCTACAAATATTAAAGTTCTGGAGGTCGTCAATGGCTAAGTTGACTACAGCGCACAAACTATCAGCATCGGAGATTAAGGTACCGGTTGAGCGCCGGTTGGCGCACCAGAGCTTGTCCCATGAAAGCTGGATTGACTCAAGGGCCACTCGGGAACTACGGGACATCAGAATAGCAACCCAGTTCTTACTGGATTTTATCCCAACGGCCGGATCTAACTCTGCATTCATGGTCATGATGGTCAGAAGGTTACATCCCGTCTTGATTAGGCGTATGCTGAGCCTTTCCCTACAGTAACAGAATATAGCCTATACAAAACCAAATATTGCAACTATTCTCCATG'"
      ]
     },
     "execution_count": 4,
     "metadata": {},
     "output_type": "execute_result"
    }
   ],
   "source": [
    "dna_str[::-1].upper()"
   ]
  },
  {
   "cell_type": "code",
   "execution_count": null,
   "id": "93885b43",
   "metadata": {},
   "outputs": [],
   "source": [
    "###############################"
   ]
  },
  {
   "cell_type": "code",
   "execution_count": 47,
   "id": "04264927",
   "metadata": {},
   "outputs": [],
   "source": [
    "def n_rabbits_per_month(months, n_offspring_pairs):\n",
    "    seq_rabbits = [1, 1]\n",
    "    \n",
    "    i = 2\n",
    "    while i <= months - 1:\n",
    "        seq_rabbits.append(seq_rabbits[i-1] + seq_rabbits[i-2]*n_offspring_pairs)\n",
    "        i = i + 1\n",
    "        \n",
    "    return seq_rabbits"
   ]
  },
  {
   "cell_type": "code",
   "execution_count": 43,
   "id": "643655c9",
   "metadata": {},
   "outputs": [
    {
     "name": "stdout",
     "output_type": "stream",
     "text": [
      "Please enter the number of months you wish the rabits to live: 31\n",
      "Please state the number of offspring pairs per adult pair of rabbits: 4\n",
      "Number of rabbits in the last month: 1117836738901\n"
     ]
    }
   ],
   "source": [
    "while True:\n",
    "    try:\n",
    "        months = int(input(\"Please enter the number of months you wish the rabits to live: \"))\n",
    "        \n",
    "    except ValueError:\n",
    "        print(\"Nop, try again.\")\n",
    "        \n",
    "        continue\n",
    "        \n",
    "    else:\n",
    "        break\n",
    "        \n",
    "while True:    \n",
    "    try:\n",
    "        n_offspring_pairs = int(input(\"Please state the number of offspring pairs per adult pair of rabbits: \"))\n",
    "        \n",
    "    except ValueError:\n",
    "        print(\"Nop, try again.\")\n",
    "        \n",
    "        continue\n",
    "        \n",
    "    else:\n",
    "        break\n",
    "\n",
    "print(\"Number of rabbits in the last month:\", n_rabbits_per_month(months, n_offspring_pairs)[-1])"
   ]
  },
  {
   "cell_type": "code",
   "execution_count": null,
   "id": "28bfba98",
   "metadata": {},
   "outputs": [],
   "source": [
    "##########################"
   ]
  },
  {
   "cell_type": "code",
   "execution_count": 30,
   "id": "f235b92c",
   "metadata": {},
   "outputs": [],
   "source": [
    "def n_rabbits_per_month(months, n_offspring_pairs, lifespan):\n",
    "    seq_rabbits = [1, 1]\n",
    "    seq_dead_rabbits = [1, 1]\n",
    "    \n",
    "    i = 2\n",
    "    while i <= months - 1:\n",
    "        if i <= lifespan - 1:\n",
    "            \n",
    "            seq_rabbits.append(seq_rabbits[i-1] + seq_rabbits[i-2]*n_offspring_pairs)\n",
    "            #seq_dead_rabbits.append(seq_dead_rabbits[i-1] + seq_dead_rabbits[i-2]*n_offspring_pairs)\n",
    "            i = i + 1\n",
    "        \n",
    "        if i > lifespan - 1:\n",
    "            \n",
    "            \n",
    "            seq_rabbits.append(seq_rabbits[i-1] + seq_rabbits[i-2]*n_offspring_pairs - seq_rabbits[-lifespan])\n",
    "            #seq_dead_rabbits.append(seq_dead_rabbits[i-1] + seq_dead_rabbits[i-2]*n_offspring_pairs)\n",
    "            \n",
    "            i = i + 1\n",
    "        \n",
    "    return seq_rabbits, seq_dead_rabbits"
   ]
  },
  {
   "cell_type": "code",
   "execution_count": 31,
   "id": "877ec249",
   "metadata": {},
   "outputs": [
    {
     "data": {
      "text/plain": [
       "([1, 1, 2, 2, 4, 6], [1, 1, 2, 3, 5, 8])"
      ]
     },
     "execution_count": 31,
     "metadata": {},
     "output_type": "execute_result"
    }
   ],
   "source": [
    "n_rabbits_per_month(6, 1, 3)"
   ]
  },
  {
   "cell_type": "code",
   "execution_count": 20,
   "id": "f1582afe",
   "metadata": {},
   "outputs": [],
   "source": [
    "seq_dead_rabbits = n_rabbits_per_month(6, 1, 3)[1]"
   ]
  },
  {
   "cell_type": "code",
   "execution_count": 23,
   "id": "5308a1ba",
   "metadata": {},
   "outputs": [
    {
     "data": {
      "text/plain": [
       "3"
      ]
     },
     "execution_count": 23,
     "metadata": {},
     "output_type": "execute_result"
    }
   ],
   "source": [
    "seq_dead_rabbits[-3]"
   ]
  },
  {
   "cell_type": "code",
   "execution_count": 1,
   "id": "a896bc9e",
   "metadata": {},
   "outputs": [],
   "source": [
    "def n_rabbits_per_month_death(months, n_offspring_pairs, lifespan):\n",
    "    seq_rabbits = [1, 1]\n",
    "    \n",
    "    i = 2\n",
    "    while i <= months - 1:\n",
    "        if i < lifespan:\n",
    "            \n",
    "            seq_rabbits.append(seq_rabbits[i-1] + seq_rabbits[i-2]*n_offspring_pairs)\n",
    "            i = i + 1\n",
    "            \n",
    "        elif i == lifespan:\n",
    "            \n",
    "            seq_rabbits.append(seq_rabbits[i-1] - 1 + seq_rabbits[i-2]*n_offspring_pairs)\n",
    "            i = i + 1\n",
    "        \n",
    "        elif i == lifespan + 1:\n",
    "            \n",
    "            seq_rabbits.append(seq_rabbits[i-1] + (seq_rabbits[i-2] - 1)*n_offspring_pairs)\n",
    "            i = i + 1\n",
    "        \n",
    "        elif i == lifespan + 2:\n",
    "            \n",
    "            seq_rabbits.append((seq_rabbits[i-1] - (seq_rabbits[i-lifespan-2] * n_offspring_pairs)) + (seq_rabbits[i-2]*n_offspring_pairs))\n",
    "            i = i + 1\n",
    "            \n",
    "        elif i > lifespan + 2:\n",
    "            \n",
    "            seq_rabbits.append((seq_rabbits[i-1] - (seq_rabbits[i-lifespan-2] * n_offspring_pairs)) + ((seq_rabbits[i-2] - (seq_rabbits[i-lifespan-3])*n_offspring_pairs) *n_offspring_pairs))\n",
    "            i = i + 1\n",
    "        \n",
    "    return seq_rabbits"
   ]
  },
  {
   "cell_type": "code",
   "execution_count": 2,
   "id": "bd082a3c",
   "metadata": {},
   "outputs": [
    {
     "data": {
      "text/plain": [
       "[1, 1, 2, 3, 4, 6, 9, 13, 19, 27, 39, 56]"
      ]
     },
     "execution_count": 2,
     "metadata": {},
     "output_type": "execute_result"
    }
   ],
   "source": [
    "n_rabbits_per_month_death(12, 1, 4)"
   ]
  },
  {
   "cell_type": "code",
   "execution_count": 120,
   "id": "cac9204a",
   "metadata": {},
   "outputs": [
    {
     "data": {
      "text/plain": [
       "[121393, 196417, 317809, 514225, 832032, 1346254]"
      ]
     },
     "execution_count": 120,
     "metadata": {},
     "output_type": "execute_result"
    }
   ],
   "source": [
    "n_rabbits_per_month_death(100, 1, 26)[25:31] #139572033844"
   ]
  },
  {
   "cell_type": "code",
   "execution_count": 121,
   "id": "fdff1209",
   "metadata": {},
   "outputs": [
    {
     "data": {
      "text/plain": [
       "[121393, 196418, 317811, 514229, 832040, 1346269]"
      ]
     },
     "execution_count": 121,
     "metadata": {},
     "output_type": "execute_result"
    }
   ],
   "source": [
    "n_rabbits_per_month(55, 1)[25:31]"
   ]
  },
  {
   "cell_type": "code",
   "execution_count": 122,
   "id": "e9f2ce7f",
   "metadata": {},
   "outputs": [
    {
     "data": {
      "text/plain": [
       "[75025, 121392, 196416, 317807, 514221, 832025]"
      ]
     },
     "execution_count": 122,
     "metadata": {},
     "output_type": "execute_result"
    }
   ],
   "source": [
    "n_rabbits_per_month_death(100, 1, 25)[24:30]"
   ]
  },
  {
   "cell_type": "code",
   "execution_count": 123,
   "id": "24079bad",
   "metadata": {},
   "outputs": [
    {
     "data": {
      "text/plain": [
       "[75025, 121393, 196418, 317811, 514229, 832040]"
      ]
     },
     "execution_count": 123,
     "metadata": {},
     "output_type": "execute_result"
    }
   ],
   "source": [
    "n_rabbits_per_month(55, 1)[24:30]"
   ]
  },
  {
   "cell_type": "code",
   "execution_count": 144,
   "id": "59a187ff",
   "metadata": {},
   "outputs": [
    {
     "data": {
      "text/plain": [
       "250158889324093919471"
      ]
     },
     "execution_count": 144,
     "metadata": {},
     "output_type": "execute_result"
    }
   ],
   "source": [
    "n_rabbits_per_month_death(150, 1, 10)[99]"
   ]
  },
  {
   "cell_type": "code",
   "execution_count": null,
   "id": "cda98932",
   "metadata": {},
   "outputs": [],
   "source": [
    "9968924833182193029336126851509"
   ]
  },
  {
   "cell_type": "code",
   "execution_count": null,
   "id": "7d1d7324",
   "metadata": {},
   "outputs": [],
   "source": [
    "55, 25 \n",
    "\n",
    "215181882229801056917\n",
    "215182717852492203481\n",
    "\n",
    "215111413474680\n",
    "24382819596721629\n",
    "\n",
    "150694439497871\n",
    "150851612688734\n",
    "\n",
    "9968924833109922972429809299561\n",
    "9968924833182193029336126851509"
   ]
  },
  {
   "cell_type": "code",
   "execution_count": 88,
   "id": "52b304a0",
   "metadata": {},
   "outputs": [],
   "source": [
    "X=10^30+1 \n",
    "Y=10^30"
   ]
  },
  {
   "cell_type": "code",
   "execution_count": 89,
   "id": "35368f80",
   "metadata": {},
   "outputs": [
    {
     "data": {
      "text/plain": [
       "1"
      ]
     },
     "execution_count": 89,
     "metadata": {},
     "output_type": "execute_result"
    }
   ],
   "source": [
    "X -Y"
   ]
  },
  {
   "cell_type": "code",
   "execution_count": 56,
   "id": "294d8a46",
   "metadata": {},
   "outputs": [],
   "source": [
    "def n_rabbits_per_month_death(months, n_offspring_pairs, lifespan):\n",
    "    seq_rabbits = [1, 1]\n",
    "    seq_rabbits_death = list(0 for i in range(0,lifespan - 1))\n",
    "    seq_rabbits_death.append(1)\n",
    "    seq_rabbits_death.append(0)\n",
    "    \n",
    "    i = 2\n",
    "    while i <= months - 1:\n",
    "        if i < lifespan:\n",
    "            \n",
    "            seq_rabbits.append(seq_rabbits[i-1] + seq_rabbits[i-2]*n_offspring_pairs)\n",
    "            i = i + 1\n",
    "            \n",
    "        elif i == lifespan:\n",
    "            \n",
    "            seq_rabbits.append(seq_rabbits[i-1] - 1 + seq_rabbits[i-2]*n_offspring_pairs)\n",
    "            i = i + 1\n",
    "        \n",
    "        elif i == lifespan + 1:\n",
    "            \n",
    "            seq_rabbits.append(seq_rabbits[i-1] + (seq_rabbits[i-2] - 1)*n_offspring_pairs)\n",
    "            seq_rabbits_death.append(seq_rabbits[i-(lifespan-1 + 2)] *n_offspring_pairs)\n",
    "            i = i + 1\n",
    "        \n",
    "        elif i == lifespan + 2:\n",
    "            \n",
    "            seq_rabbits.append((seq_rabbits[i-1] - (seq_rabbits[i-lifespan-2] * n_offspring_pairs)) + (seq_rabbits[i-2]*n_offspring_pairs))\n",
    "            seq_rabbits_death.append(seq_rabbits[i-(lifespan-1 + 2)] *n_offspring_pairs)\n",
    "            i = i + 1\n",
    "            \n",
    "        elif i > lifespan + 2:\n",
    "            \n",
    "            seq_rabbits.append((seq_rabbits[i-1] - ((seq_rabbits[i-lifespan-2] - seq_rabbits_death[i-lifespan-2]) * n_offspring_pairs)) + ((seq_rabbits[i-2] - (seq_rabbits[i-lifespan-3] - seq_rabbits_death[i-lifespan-3])) *n_offspring_pairs))\n",
    "            seq_rabbits_death.append(seq_rabbits[i-(lifespan-1 + 2)] *n_offspring_pairs - seq_rabbits_death[i-(lifespan-1 + 2)])\n",
    "            i = i + 1\n",
    "        \n",
    "    return seq_rabbits"
   ]
  },
  {
   "cell_type": "code",
   "execution_count": 59,
   "id": "bffeb5ba",
   "metadata": {},
   "outputs": [
    {
     "data": {
      "text/plain": [
       "1096365982902072399"
      ]
     },
     "execution_count": 59,
     "metadata": {},
     "output_type": "execute_result"
    }
   ],
   "source": [
    "n_rabbits_per_month_death(88, 1, 19)[-1]"
   ]
  },
  {
   "cell_type": "code",
   "execution_count": null,
   "id": "995710e3",
   "metadata": {},
   "outputs": [],
   "source": [
    "9968924833182193029336126851509"
   ]
  },
  {
   "cell_type": "code",
   "execution_count": 34,
   "id": "24139b55",
   "metadata": {},
   "outputs": [
    {
     "data": {
      "text/plain": [
       "1"
      ]
     },
     "execution_count": 34,
     "metadata": {},
     "output_type": "execute_result"
    }
   ],
   "source": [
    "n_rabbits_per_month_death(6, 1, 4)[0][6 - ((4 - 1) + 2)]"
   ]
  },
  {
   "cell_type": "code",
   "execution_count": 41,
   "id": "7eca3d50",
   "metadata": {},
   "outputs": [
    {
     "data": {
      "text/plain": [
       "[0, 0, 0]"
      ]
     },
     "execution_count": 41,
     "metadata": {},
     "output_type": "execute_result"
    }
   ],
   "source": [
    "list(0 for i in range(0,4 - 1))"
   ]
  },
  {
   "cell_type": "code",
   "execution_count": 46,
   "id": "5a730c2f",
   "metadata": {},
   "outputs": [
    {
     "data": {
      "text/plain": [
       "[0, 0, 0, 1, 0]"
      ]
     },
     "execution_count": 46,
     "metadata": {},
     "output_type": "execute_result"
    }
   ],
   "source": [
    "seq_rabbits_death = list(0 for i in range(0,4 - 1))\n",
    "seq_rabbits_death.append(1)\n",
    "seq_rabbits_death.append(0)\n",
    "seq_rabbits_death"
   ]
  },
  {
   "cell_type": "code",
   "execution_count": 62,
   "id": "3acc31b3",
   "metadata": {},
   "outputs": [],
   "source": [
    "def fib(n,k=1):\n",
    "  ages = [1] + [0]*(k-1)\n",
    "  for i in range(n-1):\n",
    "    ages = [sum(ages[1:])] + ages[:-1]\n",
    "  return sum(ages)"
   ]
  },
  {
   "cell_type": "code",
   "execution_count": 67,
   "id": "9b375201",
   "metadata": {},
   "outputs": [
    {
     "data": {
      "text/plain": [
       "0"
      ]
     },
     "execution_count": 67,
     "metadata": {},
     "output_type": "execute_result"
    }
   ],
   "source": [
    "fib(4)"
   ]
  },
  {
   "cell_type": "code",
   "execution_count": 68,
   "id": "cdd9e754",
   "metadata": {},
   "outputs": [],
   "source": [
    "f = [0]*(10)"
   ]
  },
  {
   "cell_type": "code",
   "execution_count": 69,
   "id": "5839e9ac",
   "metadata": {},
   "outputs": [
    {
     "data": {
      "text/plain": [
       "[0, 0, 0, 0, 0, 0, 0, 0, 0, 0]"
      ]
     },
     "execution_count": 69,
     "metadata": {},
     "output_type": "execute_result"
    }
   ],
   "source": [
    "f"
   ]
  },
  {
   "cell_type": "code",
   "execution_count": null,
   "id": "0af15923",
   "metadata": {},
   "outputs": [],
   "source": []
  }
 ],
 "metadata": {
  "kernelspec": {
   "display_name": "Python 3",
   "language": "python",
   "name": "python3"
  },
  "language_info": {
   "codemirror_mode": {
    "name": "ipython",
    "version": 3
   },
   "file_extension": ".py",
   "mimetype": "text/x-python",
   "name": "python",
   "nbconvert_exporter": "python",
   "pygments_lexer": "ipython3",
   "version": "3.8.3"
  },
  "varInspector": {
   "cols": {
    "lenName": 16,
    "lenType": 16,
    "lenVar": 40
   },
   "kernels_config": {
    "python": {
     "delete_cmd_postfix": "",
     "delete_cmd_prefix": "del ",
     "library": "var_list.py",
     "varRefreshCmd": "print(var_dic_list())"
    },
    "r": {
     "delete_cmd_postfix": ") ",
     "delete_cmd_prefix": "rm(",
     "library": "var_list.r",
     "varRefreshCmd": "cat(var_dic_list()) "
    }
   },
   "types_to_exclude": [
    "module",
    "function",
    "builtin_function_or_method",
    "instance",
    "_Feature"
   ],
   "window_display": false
  }
 },
 "nbformat": 4,
 "nbformat_minor": 5
}
