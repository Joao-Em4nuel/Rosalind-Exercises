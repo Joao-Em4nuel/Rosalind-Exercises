{
 "cells": [
  {
   "cell_type": "code",
   "execution_count": 69,
   "id": "d37ab177",
   "metadata": {},
   "outputs": [
    {
     "data": {
      "text/plain": [
       "0.7451710261569416"
      ]
     },
     "execution_count": 69,
     "metadata": {},
     "output_type": "execute_result"
    }
   ],
   "source": [
    "#Mendel's First Law\n",
    "#id:IPRB\n",
    "\n",
    "#Given: Three positive integers k, m, and n, representing a population containing k+m+n organisms: k individuals are \n",
    "#homozygous dominant for a factor, m are heterozygous, and n are homozygous recessive.\n",
    "\n",
    "#Return: The probability that two randomly selected mating organisms will produce an \n",
    "#individual possessing a dominant allele (and thus displaying the dominant phenotype). \n",
    "#Assume that any two organisms can mate\n",
    "\n",
    "#Function to determine the probability of possessing a dominant allele\n",
    "def P_dom_allele(k, m, n):\n",
    "    s = k + n + m\n",
    "    P = (k/s) + (m/s)*(k/(s-1)) + (m/s)*((m-1)/(s-1))*(3/4) + (m/s)*(n/(s-1))*(1/2) + ((n/s)*(k/(s-1))) + ((n/s)*(m/(s-1)))*(1/2)\n",
    "    return P\n",
    "\n",
    "#Compute the probability by assigning the values of interest\n",
    "P_dom_allele(22, 26, 23)"
   ]
  },
  {
   "cell_type": "code",
   "execution_count": null,
   "id": "fb8d9159",
   "metadata": {},
   "outputs": [],
   "source": [
    "#Translating RNA into Protein\n",
    "#id:PROT"
   ]
  },
  {
   "cell_type": "code",
   "execution_count": 53,
   "id": "78831eeb",
   "metadata": {},
   "outputs": [],
   "source": [
    "#Dictionary containing each amino acid value obtained by respective codon key\n",
    "codons = {\n",
    "\"UUU\" : \"F\",\"CUU\" : \"L\",\"AUU\" : \"I\",\"GUU\" : \"V\",\"UUC\" : \"F\",\"CUC\" : \"L\",\"AUC\" : \"I\",\"GUC\" : \"V\",\"UUA\" : \"L\",\n",
    "\"CUA\" : \"L\",\"AUA\" : \"I\",\"GUA\" : \"V\",\"UUG\" : \"L\",\"CUG\" : \"L\",\"AUG\" : \"M\",\"GUG\" : \"V\",\"UCU\" : \"S\",\"CCU\" : \"P\",\n",
    "\"ACU\" : \"T\",\"GCU\" : \"A\",\"UCC\" : \"S\",\"CCC\" : \"P\",\"ACC\" : \"T\",\"GCC\" : \"A\",\"UCA\" : \"S\",\"CCA\" : \"P\",\"ACA\" : \"T\",\n",
    "\"GCA\" : \"A\",\"UCG\" : \"S\",\"CCG\" : \"P\",\"ACG\" : \"T\",\"GCG\" : \"A\",\"UAU\" : \"Y\",\"CAU\" : \"H\",\"AAU\" : \"N\",\"GAU\" : \"D\",\n",
    "\"UAC\" : \"Y\",\"CAC\" : \"H\",\"AAC\" : \"N\",\"GAC\" : \"D\",\"UAA\" : \"\",\"CAA\" : \"Q\",\"AAA\" : \"K\",\"GAA\" : \"E\",\"UAG\" : \"\",\n",
    "\"CAG\" : \"Q\",\"AAG\" : \"K\",\"GAG\" : \"E\",\"UGU\" : \"C\",\"CGU\" : \"R\",\"AGU\" : \"S\",\"GGU\" : \"G\",\"UGC\" : \"C\",\"CGC\" : \"R\",\n",
    "\"AGC\" : \"S\",\"GGC\" : \"G\",\"UGA\" : \"\",\"CGA\" : \"R\",\"AGA\" : \"R\",\"GGA\" : \"G\",\"UGG\" : \"W\",\"CGG\" : \"R\",\"AGG\" : \"R\",\n",
    "\"GGG\" : \"G\"\n",
    "}"
   ]
  },
  {
   "cell_type": "code",
   "execution_count": 6,
   "id": "8d77b046",
   "metadata": {},
   "outputs": [
    {
     "data": {
      "text/plain": [
       "'F'"
      ]
     },
     "execution_count": 6,
     "metadata": {},
     "output_type": "execute_result"
    }
   ],
   "source": [
    "#This way it won't raise an error when the key does not present in the dic\n",
    "codons.get('UUU')"
   ]
  },
  {
   "cell_type": "code",
   "execution_count": 67,
   "id": "fcd1ba1a",
   "metadata": {},
   "outputs": [
    {
     "data": {
      "text/plain": [
       "'AUGUUCAUG'"
      ]
     },
     "execution_count": 67,
     "metadata": {},
     "output_type": "execute_result"
    }
   ],
   "source": [
    "#Open RNA sequence from txt file and store it in \"rna\" variable\n",
    "rna = open(\"rosalind_prot.txt\", \"r\")\n",
    "\n",
    "#Read total RNA sequence from txt file and store it as a string in \"rna_str\" variable\n",
    "rna_str = str(rna.read()).strip('\\n')\n",
    "\n",
    "rna_str[:9]"
   ]
  },
  {
   "cell_type": "code",
   "execution_count": 65,
   "id": "b597dfdb",
   "metadata": {},
   "outputs": [],
   "source": [
    "#Obtain protein string encoded in the RNA string in \"rna_str\"\n",
    "aminoacids = ''\n",
    "codon = ''\n",
    "c = 0\n",
    "for i in rna_str:\n",
    "    #Save characters in triplets\n",
    "    if c <= 2:\n",
    "        codon = ''.join([codon,i])\n",
    "        c = c + 1\n",
    "    #Translate triplet sequence (codon) to its respective amino acid, delete old codon and restart the counter\n",
    "    if c == 3:\n",
    "        c = 0\n",
    "        aminoacids = ''.join([aminoacids,codons.get(codon)])\n",
    "        codon = ''"
   ]
  },
  {
   "cell_type": "code",
   "execution_count": 68,
   "id": "fe6774c7",
   "metadata": {},
   "outputs": [
    {
     "data": {
      "text/plain": [
       "'MFM'"
      ]
     },
     "execution_count": 68,
     "metadata": {},
     "output_type": "execute_result"
    }
   ],
   "source": [
    "#Print first three amino acids\n",
    "aminoacids[:3]"
   ]
  }
 ],
 "metadata": {
  "kernelspec": {
   "display_name": "Python 3",
   "language": "python",
   "name": "python3"
  },
  "language_info": {
   "codemirror_mode": {
    "name": "ipython",
    "version": 3
   },
   "file_extension": ".py",
   "mimetype": "text/x-python",
   "name": "python",
   "nbconvert_exporter": "python",
   "pygments_lexer": "ipython3",
   "version": "3.8.3"
  },
  "varInspector": {
   "cols": {
    "lenName": 16,
    "lenType": 16,
    "lenVar": 40
   },
   "kernels_config": {
    "python": {
     "delete_cmd_postfix": "",
     "delete_cmd_prefix": "del ",
     "library": "var_list.py",
     "varRefreshCmd": "print(var_dic_list())"
    },
    "r": {
     "delete_cmd_postfix": ") ",
     "delete_cmd_prefix": "rm(",
     "library": "var_list.r",
     "varRefreshCmd": "cat(var_dic_list()) "
    }
   },
   "types_to_exclude": [
    "module",
    "function",
    "builtin_function_or_method",
    "instance",
    "_Feature"
   ],
   "window_display": false
  }
 },
 "nbformat": 4,
 "nbformat_minor": 5
}
