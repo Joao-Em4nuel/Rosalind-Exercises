{
 "cells": [
  {
   "cell_type": "code",
   "execution_count": 1,
   "id": "04264927",
   "metadata": {},
   "outputs": [],
   "source": [
    "#Rabbits and Recurrence Relations\n",
    "#id:FIB\n",
    "\n",
    "#Create a function that saves in a list the number of pairs of rabbits in each month\n",
    "#The number of rabbits in each month follows the function F(n) = F(n-1) + (F(n-2) x Number of offspring pairs)\n",
    "def n_rabbits_per_month(months, n_offspring_pairs):\n",
    "    seq_rabbits = [1, 1]\n",
    "    \n",
    "    i = 2\n",
    "    while i <= months - 1:\n",
    "        seq_rabbits.append(seq_rabbits[i-1] + seq_rabbits[i-2]*n_offspring_pairs)\n",
    "        i = i + 1\n",
    "        \n",
    "    return seq_rabbits"
   ]
  },
  {
   "cell_type": "code",
   "execution_count": 2,
   "id": "643655c9",
   "metadata": {},
   "outputs": [
    {
     "name": "stdout",
     "output_type": "stream",
     "text": [
      "Please enter the number of months you wish the rabits to live: 31\n",
      "Please state the number of offspring pairs per adult pair of rabbits: 4\n",
      "Number of rabbits in the last month: 1117836738901\n"
     ]
    }
   ],
   "source": [
    "#Ask for the month in which we want to know the number of rabbits\n",
    "#Ask for the number of offspring pairs born by an adult pair\n",
    "while True:\n",
    "    try:\n",
    "        months = int(input(\"Please enter the number of months you wish the rabits to live: \"))\n",
    "        \n",
    "    except ValueError:\n",
    "        print(\"Nop, try again.\")\n",
    "        \n",
    "        continue\n",
    "        \n",
    "    else:\n",
    "        break\n",
    "        \n",
    "while True:    \n",
    "    try:\n",
    "        n_offspring_pairs = int(input(\"Please state the number of offspring pairs per adult pair of rabbits: \"))\n",
    "        \n",
    "    except ValueError:\n",
    "        print(\"Nop, try again.\")\n",
    "        \n",
    "        continue\n",
    "        \n",
    "    else:\n",
    "        break\n",
    "\n",
    "print(\"Number of rabbits in the last month:\", n_rabbits_per_month(months, n_offspring_pairs)[-1])"
   ]
  },
  {
   "cell_type": "code",
   "execution_count": null,
   "id": "28bfba98",
   "metadata": {},
   "outputs": [],
   "source": [
    "##########################"
   ]
  },
  {
   "cell_type": "code",
   "execution_count": 3,
   "id": "294d8a46",
   "metadata": {},
   "outputs": [],
   "source": [
    "#Mortal Fibonacci Rabbits\n",
    "#id:FIBD\n",
    "\n",
    "#Modify the function to account for the number of months each rabbit pair lives\n",
    "#Create another list that stores the number of deaths in each month to account \n",
    "#for the number of rabbits that actually procreate and the number of rabbits that make it\n",
    "#into the next month  \n",
    "def n_rabbits_per_month_death(months, n_offspring_pairs, lifespan):\n",
    "    seq_rabbits = [1, 1]\n",
    "    seq_rabbits_death = list(0 for i in range(0,lifespan - 1))\n",
    "    seq_rabbits_death.append(1)\n",
    "    seq_rabbits_death.append(0)\n",
    "    \n",
    "    i = 2\n",
    "    while i <= months - 1:\n",
    "        if i < lifespan:\n",
    "            \n",
    "            seq_rabbits.append(seq_rabbits[i-1] + seq_rabbits[i-2]*n_offspring_pairs)\n",
    "            i = i + 1\n",
    "            \n",
    "        elif i == lifespan:\n",
    "            \n",
    "            seq_rabbits.append(seq_rabbits[i-1] - 1 + seq_rabbits[i-2]*n_offspring_pairs)\n",
    "            i = i + 1\n",
    "        \n",
    "        elif i == lifespan + 1:\n",
    "            \n",
    "            seq_rabbits.append(seq_rabbits[i-1] + (seq_rabbits[i-2] - 1)*n_offspring_pairs)\n",
    "            seq_rabbits_death.append(seq_rabbits[i-(lifespan-1 + 2)] *n_offspring_pairs)\n",
    "            i = i + 1\n",
    "        \n",
    "        elif i == lifespan + 2:\n",
    "            \n",
    "            seq_rabbits.append((seq_rabbits[i-1] - (seq_rabbits[i-lifespan-2] * n_offspring_pairs)) + (seq_rabbits[i-2]*n_offspring_pairs))\n",
    "            seq_rabbits_death.append(seq_rabbits[i-(lifespan-1 + 2)] *n_offspring_pairs)\n",
    "            i = i + 1\n",
    "            \n",
    "        elif i > lifespan + 2:\n",
    "            \n",
    "            seq_rabbits.append((seq_rabbits[i-1] - ((seq_rabbits[i-lifespan-2] - seq_rabbits_death[i-lifespan-2]) * n_offspring_pairs)) + ((seq_rabbits[i-2] - (seq_rabbits[i-lifespan-3] - seq_rabbits_death[i-lifespan-3])) *n_offspring_pairs))\n",
    "            seq_rabbits_death.append(seq_rabbits[i-(lifespan-1 + 2)] *n_offspring_pairs - seq_rabbits_death[i-(lifespan-1 + 2)])\n",
    "            i = i + 1\n",
    "        \n",
    "    return seq_rabbits"
   ]
  },
  {
   "cell_type": "code",
   "execution_count": 4,
   "id": "bffeb5ba",
   "metadata": {},
   "outputs": [
    {
     "data": {
      "text/plain": [
       "1096365982902072399"
      ]
     },
     "execution_count": 4,
     "metadata": {},
     "output_type": "execute_result"
    }
   ],
   "source": [
    "#Determine the number of rabbit pairs in the \n",
    "#specified month with a specified life span\n",
    "n_rabbits_per_month_death(88, 1, 19)[-1]"
   ]
  }
 ],
 "metadata": {
  "kernelspec": {
   "display_name": "Python 3",
   "language": "python",
   "name": "python3"
  },
  "language_info": {
   "codemirror_mode": {
    "name": "ipython",
    "version": 3
   },
   "file_extension": ".py",
   "mimetype": "text/x-python",
   "name": "python",
   "nbconvert_exporter": "python",
   "pygments_lexer": "ipython3",
   "version": "3.8.3"
  },
  "varInspector": {
   "cols": {
    "lenName": 16,
    "lenType": 16,
    "lenVar": 40
   },
   "kernels_config": {
    "python": {
     "delete_cmd_postfix": "",
     "delete_cmd_prefix": "del ",
     "library": "var_list.py",
     "varRefreshCmd": "print(var_dic_list())"
    },
    "r": {
     "delete_cmd_postfix": ") ",
     "delete_cmd_prefix": "rm(",
     "library": "var_list.r",
     "varRefreshCmd": "cat(var_dic_list()) "
    }
   },
   "types_to_exclude": [
    "module",
    "function",
    "builtin_function_or_method",
    "instance",
    "_Feature"
   ],
   "window_display": false
  }
 },
 "nbformat": 4,
 "nbformat_minor": 5
}
