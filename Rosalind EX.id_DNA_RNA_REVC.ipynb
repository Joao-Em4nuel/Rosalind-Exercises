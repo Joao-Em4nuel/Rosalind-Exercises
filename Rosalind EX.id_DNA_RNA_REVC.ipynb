{
 "cells": [
  {
   "cell_type": "code",
   "execution_count": 73,
   "id": "2bb5f940",
   "metadata": {},
   "outputs": [
    {
     "data": {
      "text/plain": [
       "'CATGGAGAATAGTTGCAATATTTGGTTTTGTATAGGCTATATTCTGTTACTGTAGGGAAAGGCTCAGCATACGCCTAATCAAGACGGGATGTAACCTTCTGACCATCATGACCATGAATGCAGAGTTAGATCCGGCCGTTGGGATAAAATCCAGTAAGAACTGGGTTGCTATTCTGATGTCCCGTAGTTCCCGAGTGGCCCTTGAGTCAATCCAGCTTTCATGGGACAAGCTCTGGTGCGCCAACCGGCGCTCAACCGGTACCTTAATCTCCGATGCTGATAGTTTGTGCGCTGTAGTCAACTTAGCCATTGACGACCTCCAGAACTTTAATATTTGTAGACCATCTGTATCGTGTCATCAACCGGCAATGTAGCGGACACTTAGCTCGAAAAAGCGCAAGCTCTACATGCAAGTTTGGGCCCCTCATTTCAATAAGAACTACGATCTCCCTCGGAGGTACGGCTAAGCAGTGGTCAGCCTTTTATCGCCAATGTTTTCAGATTTTAACGGGTCGTGTGTAAGTAATATCCCTCGAGATCCTTTCTAGTCCCAACATTTGGACTTTATCAGTCCTTGTAGTGCGACCAGACGTTCACTTGAAACAGGGCTGGGCGGATCGCGTACAATGCAGGGCGGATATCTGACACTAGATTCGACCAAATCACCCGGAAGCGATTTCCCTGTAAATAACAGCATGAGAAAGTTCTGAGGGTCGGCCGTGCACCACCCAGATGAAAGGGACAAACTGGACTCCGAGCCGACTTTAACGGACACTTCAAATCTGAACAGTCTTAAACCGTAATAACATTATTCCTCGAAACCCGCCGGTGTAACAACGCAGAATTGAAAGTGAGGACTCCCCACAACCTTAAGCAGCCCCGATCGTAGAATACGACCGTTAATTGGTTCAGAAGTCT'"
      ]
     },
     "execution_count": 73,
     "metadata": {},
     "output_type": "execute_result"
    }
   ],
   "source": [
    "#Counting DNA Nucleotides\n",
    "#id:DNA\n",
    "\n",
    "#Open DNA sequence from txt file and store it in \"dna\" variable\n",
    "dna = open(\".txt\", \"r\")\n",
    "\n",
    "#Read total DNA sequence from txt file and store it as a string in \"dna_str\" variable\n",
    "dna_str = str(dna.read()).strip('\\n')\n",
    "\n",
    "#Verify DNA sequence\n",
    "dna_str"
   ]
  },
  {
   "cell_type": "code",
   "execution_count": 77,
   "id": "c862d80b",
   "metadata": {},
   "outputs": [],
   "source": [
    "#Create a list of the DNA nucleobases\n",
    "nitrogenous_bases = ['A', 'C', 'G', 'T']"
   ]
  },
  {
   "cell_type": "code",
   "execution_count": 76,
   "id": "939e8c42",
   "metadata": {},
   "outputs": [],
   "source": [
    "#Count the number of each nucleobase, by the order in the created list, and store it in the \"nb_count\" list\n",
    "nb_count = []\n",
    "for i in nitrogenous_bases:\n",
    "    nb_count.append(dna_str.count(i))"
   ]
  },
  {
   "cell_type": "code",
   "execution_count": 80,
   "id": "8a03f37c",
   "metadata": {},
   "outputs": [
    {
     "name": "stdout",
     "output_type": "stream",
     "text": [
      "A: 249 C: 224 G 211 T: 234\n"
     ]
    }
   ],
   "source": [
    "#Print the number of time each nucleobase accurs in the loaded DNA sequence by their order in the \"nitrogenous_bases\" list\n",
    "print('A:', nb_count[0], 'C:', nb_count[1], 'G', nb_count[2], 'T:', nb_count[3])"
   ]
  },
  {
   "cell_type": "code",
   "execution_count": null,
   "id": "6b56046a",
   "metadata": {},
   "outputs": [],
   "source": [
    "######################"
   ]
  },
  {
   "cell_type": "code",
   "execution_count": 2,
   "id": "938891d0",
   "metadata": {
    "scrolled": true
   },
   "outputs": [
    {
     "data": {
      "text/plain": [
       "'AUCUUUCAAAAGUGCCUAGUUUUGAGUGAUCAGUUCGAGAUGUCACACUGUCAACGGCCCUUACGACAAGUACCCUUUGAAGAAAAGCCCCGGGUAGUAUCUCUCGCGAAAUCGUGGCAGAAUGGAGAACUGCAUCAGGCCGGCCAGGAAACCGGGGCGUUAGAUCCCGGCUCGAUACCCGGGCCACAGUGGUUUCAACCAAGCAUGCAUACCAGGGCAAGAUUCGCAAUGGACAAAAGGAUGAUGGAGAAAAUCUUCUUAAGGGAAUACUCCACACACCUACAUAGAAAGUUAGCUGUACAGAACGCUCUAGUCCACCCCCAACCGGGGGUCCUGAGCCACCUUUAGGUCGAAAGAAUAGAGACGAAGAAAUAUCGGAUCAUGUAGCGUUUAAUUGUCAUUUGGCCUAGUGUAUAGAGGUUGCGACUACAGCAUUGGGCGUGCUAGCAGUCUCCGCGUUCGUGGUUGGUGAUGGGCGUAUAAGGACGACCGUGAUGUUCUAAGUGUAGAGAGGACCUCACAAUAUGUCAAAUAAAGACUCCUCCGUGUACUGGUUGCACGCCUCGGAUAUUUGGGGUUUUGCAACGUUCGCCUAGGUUUAUGGGGAAGCUGCUGCUUUCUAUAUGGUGAUACAUCUUUCAUAUGUAGUCCACACCUGAUGUAACACUCUGGCGGCGAACAAUCACCUACCACAUCCUAUUUGGACUUGUAUCAAGAUCUGAAAGGGCAUAAUCCGAAGCACUCCAUUUAUCGGGCGGUCUCUGCAGCCACCAUUGGAUAGAAAAGCACCAGCGCCUAACCACUGAUGCUAAACUGACAAGAGCUAUUGCCAGGUGUAGGUGGCCAGCGAGCGGACAUUUGGACAUGGGGGAGUAAGAAACUGAGCACGUCUUCGAGAGGCGGACGUAGGUUUUUUCCGUCGGUAAAGGUUAUCCACUCGGA'"
      ]
     },
     "execution_count": 2,
     "metadata": {},
     "output_type": "execute_result"
    }
   ],
   "source": [
    "#Transcribing DNA into RNA\n",
    "#id:RNA\n",
    "\n",
    "#(aka. changing thymine to uracil)\n",
    "dna_str.replace('T', 'U')"
   ]
  },
  {
   "cell_type": "code",
   "execution_count": null,
   "id": "db26d81d",
   "metadata": {},
   "outputs": [],
   "source": [
    "####################"
   ]
  },
  {
   "cell_type": "code",
   "execution_count": 81,
   "id": "912d2c4c",
   "metadata": {
    "scrolled": true
   },
   "outputs": [
    {
     "data": {
      "text/plain": [
       "'CATGGAGAATAGTTGCAATATTTGGTTTTGTATAGGCTATATTCTGTTACTGTAGGGAAAGGCTCAGCATACGCCTAATCAAGACGGGATGTAACCTTCTGACCATCATGACCATGAATGCAGAGTTAGATCCGGCCGTTGGGATAAAATCCAGTAAGAACTGGGTTGCTATTCTGATGTCCCGTAGTTCCCGAGTGGCCCTTGAGTCAATCCAGCTTTCATGGGACAAGCTCTGGTGCGCCAACCGGCGCTCAACCGGTACCTTAATCTCCGATGCTGATAGTTTGTGCGCTGTAGTCAACTTAGCCATTGACGACCTCCAGAACTTTAATATTTGTAGACCATCTGTATCGTGTCATCAACCGGCAATGTAGCGGACACTTAGCTCGAAAAAGCGCAAGCTCTACATGCAAGTTTGGGCCCCTCATTTCAATAAGAACTACGATCTCCCTCGGAGGTACGGCTAAGCAGTGGTCAGCCTTTTATCGCCAATGTTTTCAGATTTTAACGGGTCGTGTGTAAGTAATATCCCTCGAGATCCTTTCTAGTCCCAACATTTGGACTTTATCAGTCCTTGTAGTGCGACCAGACGTTCACTTGAAACAGGGCTGGGCGGATCGCGTACAATGCAGGGCGGATATCTGACACTAGATTCGACCAAATCACCCGGAAGCGATTTCCCTGTAAATAACAGCATGAGAAAGTTCTGAGGGTCGGCCGTGCACCACCCAGATGAAAGGGACAAACTGGACTCCGAGCCGACTTTAACGGACACTTCAAATCTGAACAGTCTTAAACCGTAATAACATTATTCCTCGAAACCCGCCGGTGTAACAACGCAGAATTGAAAGTGAGGACTCCCCACAACCTTAAGCAGCCCCGATCGTAGAATACGACCGTTAATTGGTTCAGAAGTCT'"
      ]
     },
     "execution_count": 81,
     "metadata": {},
     "output_type": "execute_result"
    }
   ],
   "source": [
    "#Complementing a Strand of DNA\n",
    "#id:REVC\n",
    "\n",
    "#Verify DNA sequence\n",
    "dna_str"
   ]
  },
  {
   "cell_type": "code",
   "execution_count": 2,
   "id": "2a1beb37",
   "metadata": {},
   "outputs": [],
   "source": [
    "#Create a list of the DNA nucleobases\n",
    "nitrogenous_bases = ['A', 'C', 'G', 'T']\n",
    "\n",
    "#Create a list of the DNA complement nucleobases\n",
    "complement_nb = ['T', 'G', 'C', 'A']"
   ]
  },
  {
   "cell_type": "code",
   "execution_count": 3,
   "id": "3c474e60",
   "metadata": {},
   "outputs": [],
   "source": [
    "#Replace the nucleobases with their lowercase complement so not to replace nucleobases that were already change\n",
    "n = 0\n",
    "for i in nitrogenous_bases:\n",
    "    dna_str = dna_str.replace(i, complement_nb[n].lower())\n",
    "    n = n + 1"
   ]
  },
  {
   "cell_type": "code",
   "execution_count": 4,
   "id": "ac833e0f",
   "metadata": {},
   "outputs": [
    {
     "data": {
      "text/plain": [
       "'AGACTTCTGAACCAATTAACGGTCGTATTCTACGATCGGGGCTGCTTAAGGTTGTGGGGAGTCCTCACTTTCAATTCTGCGTTGTTACACCGGCGGGTTTCGAGGAATAATGTTATTACGGTTTAAGACTGTTCAGATTTGAAGTGTCCGTTAAAGTCGGCTCGGAGTCCAGTTTGTCCCTTTCATCTGGGTGGTGCACGGCCGACCCTCAGAACTTTCTCATGCTGTTATTTACAGGGAAATCGCTTCCGGGTGATTTGGTCGAATCTAGTGTCAGATATCCGCCCTGCATTGTACGCGATCCGCCCAGCCCTGTTTCAAGTGAACGTCTGGTCGCACTACAAGGACTGATAAAGTCCAAATGTTGGGACTAGAAAGGATCTCGAGGGATATTACTTACACACGACCCGTTAAAATCTGAAAACATTGGCGATAAAAGGCTGACCACTGCTTAGCCGTACCTCCGAGGGAGATCGTAGTTCTTATTGAAATGAGGGGCCCAAACTTGCATGTAGAGCTTGCGCTTTTTCGAGCTAAGTGTCCGCTACATTGCCGGTTGATGACACGATACAGATGGTCTACAAATATTAAAGTTCTGGAGGTCGTCAATGGCTAAGTTGACTACAGCGCACAAACTATCAGCATCGGAGATTAAGGTACCGGTTGAGCGCCGGTTGGCGCACCAGAGCTTGTCCCATGAAAGCTGGATTGACTCAAGGGCCACTCGGGAACTACGGGACATCAGAATAGCAACCCAGTTCTTACTGGATTTTATCCCAACGGCCGGATCTAACTCTGCATTCATGGTCATGATGGTCAGAAGGTTACATCCCGTCTTGATTAGGCGTATGCTGAGCCTTTCCCTACAGTAACAGAATATAGCCTATACAAAACCAAATATTGCAACTATTCTCCATG'"
      ]
     },
     "execution_count": 4,
     "metadata": {},
     "output_type": "execute_result"
    }
   ],
   "source": [
    "#Verify complement sequence and change it to uppercase\n",
    "dna_str[::-1].upper()"
   ]
  }
 ],
 "metadata": {
  "kernelspec": {
   "display_name": "Python 3",
   "language": "python",
   "name": "python3"
  },
  "language_info": {
   "codemirror_mode": {
    "name": "ipython",
    "version": 3
   },
   "file_extension": ".py",
   "mimetype": "text/x-python",
   "name": "python",
   "nbconvert_exporter": "python",
   "pygments_lexer": "ipython3",
   "version": "3.8.3"
  },
  "varInspector": {
   "cols": {
    "lenName": 16,
    "lenType": 16,
    "lenVar": 40
   },
   "kernels_config": {
    "python": {
     "delete_cmd_postfix": "",
     "delete_cmd_prefix": "del ",
     "library": "var_list.py",
     "varRefreshCmd": "print(var_dic_list())"
    },
    "r": {
     "delete_cmd_postfix": ") ",
     "delete_cmd_prefix": "rm(",
     "library": "var_list.r",
     "varRefreshCmd": "cat(var_dic_list()) "
    }
   },
   "types_to_exclude": [
    "module",
    "function",
    "builtin_function_or_method",
    "instance",
    "_Feature"
   ],
   "window_display": false
  }
 },
 "nbformat": 4,
 "nbformat_minor": 5
}
